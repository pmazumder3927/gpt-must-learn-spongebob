{
 "cells": [
  {
   "cell_type": "code",
   "execution_count": 5,
   "metadata": {
    "metadata": {}
   },
   "outputs": [
    {
     "name": "stdout",
     "output_type": "stream",
     "text": [
      "All transcripts have been merged into merged_transcripts.txt\n"
     ]
    }
   ],
   "source": [
    "# merge txt files into one\n",
    "import os\n",
    "import glob\n",
    "\n",
    "# Directory containing the transcript files\n",
    "transcript_dir = 'transcripts'\n",
    "\n",
    "# Output file name\n",
    "output_file = 'merged_transcripts.txt'\n",
    "\n",
    "# Get all txt files in the directory\n",
    "txt_files = glob.glob(os.path.join(transcript_dir, '*.txt'))\n",
    "\n",
    "# Sort the files to ensure consistent order\n",
    "txt_files.sort()\n",
    "\n",
    "# Open the output file in write mode\n",
    "with open(output_file, 'w', encoding='utf-8') as outfile:\n",
    "    # Iterate through each txt file\n",
    "    for txt_file in txt_files:\n",
    "        # Open and read the content of each file\n",
    "        with open(txt_file, 'r', encoding='utf-8') as infile:\n",
    "            outfile.write(infile.read())\n",
    "\n",
    "print(f\"All transcripts have been merged into {output_file}\")\n",
    "\n"
   ]
  },
  {
   "cell_type": "code",
   "execution_count": 2,
   "metadata": {
    "metadata": {}
   },
   "outputs": [],
   "source": [
    "from data import DataLoader\n",
    "\n",
    "data = DataLoader('merged_transcripts.txt')\n"
   ]
  },
  {
   "cell_type": "code",
   "execution_count": 30,
   "metadata": {
    "metadata": {}
   },
   "outputs": [
    {
     "data": {
      "text/plain": [
       "(tensor([[  262, 17492,    11,   290,  3011,   257,  1643, 24097],\n",
       "         [   13,   679,  1319,   654,   262, 17492,   572,   683],\n",
       "         [ 8183,   198,  4561, 14220, 18861,    25,  6350,   716],\n",
       "         [  314,    30,   685,   565,   320,  1443,   503,   286]]),\n",
       " tensor([[17492,    11,   290,  3011,   257,  1643, 24097,    13],\n",
       "         [  679,  1319,   654,   262, 17492,   572,   683,  8183],\n",
       "         [  198,  4561, 14220, 18861,    25,  6350,   716,   314],\n",
       "         [   30,   685,   565,   320,  1443,   503,   286,   262]]))"
      ]
     },
     "execution_count": 30,
     "metadata": {},
     "output_type": "execute_result"
    }
   ],
   "source": [
    "data.get_next_batch(B=4, T=8)"
   ]
  }
 ],
 "metadata": {
  "kernelspec": {
   "display_name": "gpt",
   "language": "python",
   "name": "python3"
  },
  "language_info": {
   "codemirror_mode": {
    "name": "ipython",
    "version": 3
   },
   "file_extension": ".py",
   "mimetype": "text/x-python",
   "name": "python",
   "nbconvert_exporter": "python",
   "pygments_lexer": "ipython3",
   "version": "3.12.4"
  }
 },
 "nbformat": 4,
 "nbformat_minor": 2
}
